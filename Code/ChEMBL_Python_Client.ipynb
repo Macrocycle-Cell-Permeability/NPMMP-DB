{
 "cells": [
  {
   "cell_type": "markdown",
   "id": "e16153e9",
   "metadata": {},
   "source": [
    "*Searching data on ChEMBL using its Python web resource client. **PAMPA** is used as an example.*\n",
    "\n",
    "*It can be replaced by other assays (like Caco-2, MDCK, RRCK...)*"
   ]
  },
  {
   "cell_type": "markdown",
   "id": "924a9cfe",
   "metadata": {},
   "source": [
    "### Import packages and client"
   ]
  },
  {
   "cell_type": "code",
   "execution_count": null,
   "id": "f18b005f",
   "metadata": {},
   "outputs": [],
   "source": [
    "import csv\n",
    "from chembl_webresource_client.new_client import new_client\n",
    "\n",
    "# Create a new client\n",
    "client = new_client"
   ]
  },
  {
   "cell_type": "markdown",
   "id": "e4fe3744",
   "metadata": {},
   "source": [
    "### Searching by keywords"
   ]
  },
  {
   "cell_type": "code",
   "execution_count": null,
   "id": "83bea969",
   "metadata": {},
   "outputs": [],
   "source": [
    "# Search for PAMPA assays\n",
    "assays = client.assay.filter(description__icontains='PAMPA')\n",
    "\n",
    "# Open a new CSV file for writing\n",
    "with open('pampa_data.csv', 'w', newline='') as csvfile:\n",
    "    fieldnames = ['CHEMBL_ID', 'SMILES', 'PAMPA_value', 'PAMPA_units', 'PAMPA_doi', 'PAMPA_assay_description']\n",
    "    writer = csv.DictWriter(csvfile, fieldnames=fieldnames)\n",
    "\n",
    "    writer.writeheader()\n",
    "\n",
    "    # For each assay, get the activities (which includes PAMPA values)\n",
    "    for assay in assays:\n",
    "        activities = client.activity.filter(assay_chembl_id=assay['assay_chembl_id'])\n",
    "\n",
    "        # For each activity, save the CHEMBL ID, SMILES string, value, units, doi, and assay description\n",
    "        for activity in activities:\n",
    "            molecule = client.molecule.get(activity['molecule_chembl_id'])\n",
    "            smiles = None\n",
    "            if molecule['molecule_structures'] is not None:\n",
    "                smiles = molecule['molecule_structures']['canonical_smiles']\n",
    "            try:\n",
    "                document = client.document.get(activity['document_chembl_id'])\n",
    "                doi = document['doi'] if document['doi'] else \"Not Available\"\n",
    "            except Exception:\n",
    "                doi = \"Not Available\"\n",
    "            writer.writerow({\n",
    "                'CHEMBL_ID': activity['molecule_chembl_id'],\n",
    "                'SMILES': smiles,\n",
    "                'PAMPA_value': activity['value'],\n",
    "                'PAMPA_units': activity['units'],\n",
    "                'PAMPA_doi': doi,\n",
    "                'PAMPA_assay_description': assay['description'] if assay['description'] else \"Not Available\"\n",
    "            })\n"
   ]
  },
  {
   "cell_type": "markdown",
   "id": "5cf910e9",
   "metadata": {},
   "source": [
    "### Fliter the macrocycle molecules"
   ]
  },
  {
   "cell_type": "code",
   "execution_count": null,
   "id": "7363b3e1",
   "metadata": {},
   "outputs": [],
   "source": [
    "from rdkit import Chem\n",
    "from rdkit.Chem import Draw, PandasTools\n",
    "from rdkit.Chem.Draw import IPythonConsole\n",
    "import pandas as pd"
   ]
  },
  {
   "cell_type": "code",
   "execution_count": null,
   "id": "09775ab4",
   "metadata": {},
   "outputs": [],
   "source": [
    "sample_data = pd.read_csv('pampa_data.csv')\n",
    "comp_ids = sample_data[\"CHEMBL_ID\"].to_list()\n",
    "smiles = sample_data[\"SMILES\"].to_list() \n",
    "\n",
    "def get_max_ring_size(mol):\n",
    "    ri = mol.GetRingInfo()\n",
    "    atom_rings = ri.AtomRings()\n",
    "    if len(atom_rings) == 0:  # if there are no rings, return 0\n",
    "        return 0\n",
    "    else:\n",
    "        maxring = max(len(ra) for ra in atom_rings)\n",
    "        return maxring\n",
    "    \n",
    "molecules_ring_size = []\n",
    "for comp_id, smile in  zip(comp_ids, smiles):\n",
    "    mol = Chem.MolFromSmiles(str(smile))\n",
    "    if mol is not None:\n",
    "        ring_size = get_max_ring_size(mol)\n",
    "        molecules_ring_size.append(ring_size)\n",
    "    else:\n",
    "        print(f\"Invalid SMILES: {smile}\")\n",
    "        molecules_ring_size.append(None)  \n"
   ]
  },
  {
   "cell_type": "code",
   "execution_count": null,
   "id": "7394b345",
   "metadata": {},
   "outputs": [],
   "source": [
    "sample_data['Ring_Size'] = molecules_ring_size\n",
    "macrocycles = sample_data[sample_data[\"Ring_Size\"] >=12] #Attention! Should be \">=\"\" 12\n",
    "macrocycles.to_csv(\"macrocycle_pampa.csv\")"
   ]
  }
 ],
 "metadata": {
  "kernelspec": {
   "display_name": "Python 3 (ipykernel)",
   "language": "python",
   "name": "python3"
  },
  "language_info": {
   "codemirror_mode": {
    "name": "ipython",
    "version": 3
   },
   "file_extension": ".py",
   "mimetype": "text/x-python",
   "name": "python",
   "nbconvert_exporter": "python",
   "pygments_lexer": "ipython3",
   "version": "3.7.16"
  }
 },
 "nbformat": 4,
 "nbformat_minor": 5
}
