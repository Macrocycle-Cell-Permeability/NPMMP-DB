{
 "cells": [
  {
   "cell_type": "markdown",
   "id": "47adc852",
   "metadata": {},
   "source": [
    "*After Molecular processing, separate the overall dataset into subsets.*"
   ]
  },
  {
   "cell_type": "code",
   "execution_count": null,
   "id": "267d8195",
   "metadata": {},
   "outputs": [],
   "source": [
    "import pandas as pd\n",
    "\n",
    "# Load the dataset  \n",
    "df = pd.read_csv('Overall.csv', encoding='utf_8_sig')"
   ]
  },
  {
   "cell_type": "markdown",
   "id": "63d36814",
   "metadata": {},
   "source": [
    "#### Group by 'Assay' only and create subsets"
   ]
  },
  {
   "cell_type": "code",
   "execution_count": null,
   "id": "ec00cb2d",
   "metadata": {},
   "outputs": [],
   "source": [
    "grouped = df.groupby(['Assay'])\n",
    "subsets = {group: data for group, data in grouped}\n",
    "# Create a DataFrame to store the counts\n",
    "counts_assay = pd.DataFrame(columns=['File', 'Number of Entries'])\n",
    "# Optionally, to save these subsets as separate CSV files\n",
    "for (assay), subset in subsets.items():\n",
    "    file_name = f'{assay}.csv'\n",
    "    subset.to_csv(file_name, index=False, encoding='utf_8_sig')\n",
    "    # Add the count information to the DataFrame\n",
    "    counts_assay = counts_assay.append({'File': file_name, 'Number of Entries': len(subset)}, ignore_index=True)\n",
    "# Display the counts DataFrame\n",
    "counts_assay_2 = counts_assay.sort_values(by = ['Number of Entries'],ascending=False)\n",
    "counts_assay_2"
   ]
  },
  {
   "cell_type": "markdown",
   "id": "23e620ce",
   "metadata": {},
   "source": [
    "#### Group by Both 'Endpoint' and 'Assay' and create subsets"
   ]
  },
  {
   "cell_type": "code",
   "execution_count": null,
   "id": "c94880ae",
   "metadata": {},
   "outputs": [],
   "source": [
    "grouped = df.groupby(['Standardized_Endpoint', 'Assay'])\n",
    "subsets = {group: data for group, data in grouped}\n",
    "counts_sub = pd.DataFrame(columns=['File', 'Number of Entries'])\n",
    "for (std_endpoint,assay), subset in subsets.items():\n",
    "    file_name = f'{assay}  {std_endpoint}.csv'\n",
    "    subset.to_csv(file_name, index=False, encoding='utf_8_sig')\n",
    "    counts_sub = counts_sub.append({'File': file_name, 'Number of Entries': len(subset)}, ignore_index=True)\n",
    "counts_sub_2 = counts_sub.sort_values(by = ['Number of Entries'],ascending=False)\n",
    "counts_sub_2"
   ]
  }
 ],
 "metadata": {
  "kernelspec": {
   "display_name": "Python 3 (ipykernel)",
   "language": "python",
   "name": "python3"
  },
  "language_info": {
   "codemirror_mode": {
    "name": "ipython",
    "version": 3
   },
   "file_extension": ".py",
   "mimetype": "text/x-python",
   "name": "python",
   "nbconvert_exporter": "python",
   "pygments_lexer": "ipython3",
   "version": "3.7.16"
  }
 },
 "nbformat": 4,
 "nbformat_minor": 5
}
